{
 "cells": [
  {
   "cell_type": "markdown",
   "id": "5c841ca2",
   "metadata": {},
   "source": [
    "## Intermediary Statistics"
   ]
  },
  {
   "cell_type": "markdown",
   "id": "b9342a6e",
   "metadata": {},
   "source": [
    "### Libraries, directories and Data"
   ]
  },
  {
   "cell_type": "code",
   "execution_count": 4,
   "id": "0685ae40",
   "metadata": {},
   "outputs": [],
   "source": [
    "import pandas as pd\n",
    "import seaborn as sns\n",
    "import scipy.stats as st\n",
    "import math as m\n",
    "import statsmodels.stats.api as sm"
   ]
  },
  {
   "cell_type": "markdown",
   "id": "a2ff555c",
   "metadata": {},
   "source": [
    "### reading data"
   ]
  },
  {
   "cell_type": "code",
   "execution_count": 2,
   "id": "1d7e3b6a",
   "metadata": {},
   "outputs": [
    {
     "data": {
      "text/html": [
       "<div>\n",
       "<style scoped>\n",
       "    .dataframe tbody tr th:only-of-type {\n",
       "        vertical-align: middle;\n",
       "    }\n",
       "\n",
       "    .dataframe tbody tr th {\n",
       "        vertical-align: top;\n",
       "    }\n",
       "\n",
       "    .dataframe thead th {\n",
       "        text-align: right;\n",
       "    }\n",
       "</style>\n",
       "<table border=\"1\" class=\"dataframe\">\n",
       "  <thead>\n",
       "    <tr style=\"text-align: right;\">\n",
       "      <th></th>\n",
       "      <th>fixed acidity</th>\n",
       "      <th>volatile acidity</th>\n",
       "      <th>citric acid</th>\n",
       "      <th>residual sugar</th>\n",
       "      <th>chlorides</th>\n",
       "      <th>free sulfur dioxide</th>\n",
       "      <th>total sulfur dioxide</th>\n",
       "      <th>density</th>\n",
       "      <th>pH</th>\n",
       "      <th>sulphates</th>\n",
       "      <th>alcohol</th>\n",
       "      <th>quality</th>\n",
       "    </tr>\n",
       "  </thead>\n",
       "  <tbody>\n",
       "    <tr>\n",
       "      <th>0</th>\n",
       "      <td>7.4</td>\n",
       "      <td>0.70</td>\n",
       "      <td>0.00</td>\n",
       "      <td>1.9</td>\n",
       "      <td>0.076</td>\n",
       "      <td>11.0</td>\n",
       "      <td>34.0</td>\n",
       "      <td>0.9978</td>\n",
       "      <td>3.51</td>\n",
       "      <td>0.56</td>\n",
       "      <td>9.4</td>\n",
       "      <td>5</td>\n",
       "    </tr>\n",
       "    <tr>\n",
       "      <th>1</th>\n",
       "      <td>7.8</td>\n",
       "      <td>0.88</td>\n",
       "      <td>0.00</td>\n",
       "      <td>2.6</td>\n",
       "      <td>0.098</td>\n",
       "      <td>25.0</td>\n",
       "      <td>67.0</td>\n",
       "      <td>0.9968</td>\n",
       "      <td>3.20</td>\n",
       "      <td>0.68</td>\n",
       "      <td>9.8</td>\n",
       "      <td>5</td>\n",
       "    </tr>\n",
       "    <tr>\n",
       "      <th>2</th>\n",
       "      <td>7.8</td>\n",
       "      <td>0.76</td>\n",
       "      <td>0.04</td>\n",
       "      <td>2.3</td>\n",
       "      <td>0.092</td>\n",
       "      <td>15.0</td>\n",
       "      <td>54.0</td>\n",
       "      <td>0.9970</td>\n",
       "      <td>3.26</td>\n",
       "      <td>0.65</td>\n",
       "      <td>9.8</td>\n",
       "      <td>5</td>\n",
       "    </tr>\n",
       "    <tr>\n",
       "      <th>3</th>\n",
       "      <td>11.2</td>\n",
       "      <td>0.28</td>\n",
       "      <td>0.56</td>\n",
       "      <td>1.9</td>\n",
       "      <td>0.075</td>\n",
       "      <td>17.0</td>\n",
       "      <td>60.0</td>\n",
       "      <td>0.9980</td>\n",
       "      <td>3.16</td>\n",
       "      <td>0.58</td>\n",
       "      <td>9.8</td>\n",
       "      <td>6</td>\n",
       "    </tr>\n",
       "    <tr>\n",
       "      <th>4</th>\n",
       "      <td>7.4</td>\n",
       "      <td>0.70</td>\n",
       "      <td>0.00</td>\n",
       "      <td>1.9</td>\n",
       "      <td>0.076</td>\n",
       "      <td>11.0</td>\n",
       "      <td>34.0</td>\n",
       "      <td>0.9978</td>\n",
       "      <td>3.51</td>\n",
       "      <td>0.56</td>\n",
       "      <td>9.4</td>\n",
       "      <td>5</td>\n",
       "    </tr>\n",
       "  </tbody>\n",
       "</table>\n",
       "</div>"
      ],
      "text/plain": [
       "   fixed acidity  volatile acidity  citric acid  residual sugar  chlorides  \\\n",
       "0            7.4              0.70         0.00             1.9      0.076   \n",
       "1            7.8              0.88         0.00             2.6      0.098   \n",
       "2            7.8              0.76         0.04             2.3      0.092   \n",
       "3           11.2              0.28         0.56             1.9      0.075   \n",
       "4            7.4              0.70         0.00             1.9      0.076   \n",
       "\n",
       "   free sulfur dioxide  total sulfur dioxide  density    pH  sulphates  \\\n",
       "0                 11.0                  34.0   0.9978  3.51       0.56   \n",
       "1                 25.0                  67.0   0.9968  3.20       0.68   \n",
       "2                 15.0                  54.0   0.9970  3.26       0.65   \n",
       "3                 17.0                  60.0   0.9980  3.16       0.58   \n",
       "4                 11.0                  34.0   0.9978  3.51       0.56   \n",
       "\n",
       "   alcohol  quality  \n",
       "0      9.4        5  \n",
       "1      9.8        5  \n",
       "2      9.8        5  \n",
       "3      9.8        6  \n",
       "4      9.4        5  "
      ]
     },
     "execution_count": 2,
     "metadata": {},
     "output_type": "execute_result"
    }
   ],
   "source": [
    "df=pd.read_csv(\"/Users/bididudy/Downloads/Business Analyst course/Statistics and Descriptive Analytics/Intermediary Statistics/Wine-quality-challenge.csv\")\n",
    "df.head()"
   ]
  },
  {
   "cell_type": "markdown",
   "id": "c8416cc0",
   "metadata": {},
   "source": [
    "### Normal Distribution"
   ]
  },
  {
   "cell_type": "code",
   "execution_count": 5,
   "id": "76b17587",
   "metadata": {},
   "outputs": [
    {
     "data": {
      "text/plain": [
       "<Axes: ylabel='Density'>"
      ]
     },
     "execution_count": 5,
     "metadata": {},
     "output_type": "execute_result"
    },
    {
     "data": {
      "image/png": "[encoded data removed]",
      "text/plain": [
       "<Figure size 432x288 with 1 Axes>"
      ]
     },
     "metadata": {
      "needs_background": "light"
     },
     "output_type": "display_data"
    }
   ],
   "source": [
    "# Density plot\n",
    "df.chlorides.plot.density()"
   ]
  },
  {
   "cell_type": "code",
   "execution_count": 10,
   "id": "8e941d48",
   "metadata": {},
   "outputs": [
    {
     "data": {
      "text/html": [
       "<div>\n",
       "<style scoped>\n",
       "    .dataframe tbody tr th:only-of-type {\n",
       "        vertical-align: middle;\n",
       "    }\n",
       "\n",
       "    .dataframe tbody tr th {\n",
       "        vertical-align: top;\n",
       "    }\n",
       "\n",
       "    .dataframe thead th {\n",
       "        text-align: right;\n",
       "    }\n",
       "</style>\n",
       "<table border=\"1\" class=\"dataframe\">\n",
       "  <thead>\n",
       "    <tr style=\"text-align: right;\">\n",
       "      <th></th>\n",
       "      <th>fixed acidity</th>\n",
       "      <th>volatile acidity</th>\n",
       "      <th>citric acid</th>\n",
       "      <th>residual sugar</th>\n",
       "      <th>chlorides</th>\n",
       "      <th>free sulfur dioxide</th>\n",
       "      <th>total sulfur dioxide</th>\n",
       "      <th>density</th>\n",
       "      <th>pH</th>\n",
       "      <th>sulphates</th>\n",
       "      <th>alcohol</th>\n",
       "      <th>quality</th>\n",
       "    </tr>\n",
       "  </thead>\n",
       "  <tbody>\n",
       "    <tr>\n",
       "      <th>0</th>\n",
       "      <td>7.4</td>\n",
       "      <td>0.700</td>\n",
       "      <td>0.00</td>\n",
       "      <td>1.9</td>\n",
       "      <td>0.076</td>\n",
       "      <td>11.0</td>\n",
       "      <td>34.0</td>\n",
       "      <td>0.99780</td>\n",
       "      <td>3.51</td>\n",
       "      <td>0.56</td>\n",
       "      <td>9.4</td>\n",
       "      <td>5</td>\n",
       "    </tr>\n",
       "    <tr>\n",
       "      <th>1</th>\n",
       "      <td>7.8</td>\n",
       "      <td>0.880</td>\n",
       "      <td>0.00</td>\n",
       "      <td>2.6</td>\n",
       "      <td>0.098</td>\n",
       "      <td>25.0</td>\n",
       "      <td>67.0</td>\n",
       "      <td>0.99680</td>\n",
       "      <td>3.20</td>\n",
       "      <td>0.68</td>\n",
       "      <td>9.8</td>\n",
       "      <td>5</td>\n",
       "    </tr>\n",
       "    <tr>\n",
       "      <th>2</th>\n",
       "      <td>7.8</td>\n",
       "      <td>0.760</td>\n",
       "      <td>0.04</td>\n",
       "      <td>2.3</td>\n",
       "      <td>0.092</td>\n",
       "      <td>15.0</td>\n",
       "      <td>54.0</td>\n",
       "      <td>0.99700</td>\n",
       "      <td>3.26</td>\n",
       "      <td>0.65</td>\n",
       "      <td>9.8</td>\n",
       "      <td>5</td>\n",
       "    </tr>\n",
       "    <tr>\n",
       "      <th>3</th>\n",
       "      <td>11.2</td>\n",
       "      <td>0.280</td>\n",
       "      <td>0.56</td>\n",
       "      <td>1.9</td>\n",
       "      <td>0.075</td>\n",
       "      <td>17.0</td>\n",
       "      <td>60.0</td>\n",
       "      <td>0.99800</td>\n",
       "      <td>3.16</td>\n",
       "      <td>0.58</td>\n",
       "      <td>9.8</td>\n",
       "      <td>6</td>\n",
       "    </tr>\n",
       "    <tr>\n",
       "      <th>4</th>\n",
       "      <td>7.4</td>\n",
       "      <td>0.700</td>\n",
       "      <td>0.00</td>\n",
       "      <td>1.9</td>\n",
       "      <td>0.076</td>\n",
       "      <td>11.0</td>\n",
       "      <td>34.0</td>\n",
       "      <td>0.99780</td>\n",
       "      <td>3.51</td>\n",
       "      <td>0.56</td>\n",
       "      <td>9.4</td>\n",
       "      <td>5</td>\n",
       "    </tr>\n",
       "    <tr>\n",
       "      <th>...</th>\n",
       "      <td>...</td>\n",
       "      <td>...</td>\n",
       "      <td>...</td>\n",
       "      <td>...</td>\n",
       "      <td>...</td>\n",
       "      <td>...</td>\n",
       "      <td>...</td>\n",
       "      <td>...</td>\n",
       "      <td>...</td>\n",
       "      <td>...</td>\n",
       "      <td>...</td>\n",
       "      <td>...</td>\n",
       "    </tr>\n",
       "    <tr>\n",
       "      <th>1594</th>\n",
       "      <td>6.2</td>\n",
       "      <td>0.600</td>\n",
       "      <td>0.08</td>\n",
       "      <td>2.0</td>\n",
       "      <td>0.090</td>\n",
       "      <td>32.0</td>\n",
       "      <td>44.0</td>\n",
       "      <td>0.99490</td>\n",
       "      <td>3.45</td>\n",
       "      <td>0.58</td>\n",
       "      <td>10.5</td>\n",
       "      <td>5</td>\n",
       "    </tr>\n",
       "    <tr>\n",
       "      <th>1595</th>\n",
       "      <td>5.9</td>\n",
       "      <td>0.550</td>\n",
       "      <td>0.10</td>\n",
       "      <td>2.2</td>\n",
       "      <td>0.062</td>\n",
       "      <td>39.0</td>\n",
       "      <td>51.0</td>\n",
       "      <td>0.99512</td>\n",
       "      <td>3.52</td>\n",
       "      <td>0.76</td>\n",
       "      <td>11.2</td>\n",
       "      <td>6</td>\n",
       "    </tr>\n",
       "    <tr>\n",
       "      <th>1596</th>\n",
       "      <td>6.3</td>\n",
       "      <td>0.510</td>\n",
       "      <td>0.13</td>\n",
       "      <td>2.3</td>\n",
       "      <td>0.076</td>\n",
       "      <td>29.0</td>\n",
       "      <td>40.0</td>\n",
       "      <td>0.99574</td>\n",
       "      <td>3.42</td>\n",
       "      <td>0.75</td>\n",
       "      <td>11.0</td>\n",
       "      <td>6</td>\n",
       "    </tr>\n",
       "    <tr>\n",
       "      <th>1597</th>\n",
       "      <td>5.9</td>\n",
       "      <td>0.645</td>\n",
       "      <td>0.12</td>\n",
       "      <td>2.0</td>\n",
       "      <td>0.075</td>\n",
       "      <td>32.0</td>\n",
       "      <td>44.0</td>\n",
       "      <td>0.99547</td>\n",
       "      <td>3.57</td>\n",
       "      <td>0.71</td>\n",
       "      <td>10.2</td>\n",
       "      <td>5</td>\n",
       "    </tr>\n",
       "    <tr>\n",
       "      <th>1598</th>\n",
       "      <td>6.0</td>\n",
       "      <td>0.310</td>\n",
       "      <td>0.47</td>\n",
       "      <td>3.6</td>\n",
       "      <td>0.067</td>\n",
       "      <td>18.0</td>\n",
       "      <td>42.0</td>\n",
       "      <td>0.99549</td>\n",
       "      <td>3.39</td>\n",
       "      <td>0.66</td>\n",
       "      <td>11.0</td>\n",
       "      <td>6</td>\n",
       "    </tr>\n",
       "  </tbody>\n",
       "</table>\n",
       "<p>1516 rows × 12 columns</p>\n",
       "</div>"
      ],
      "text/plain": [
       "      fixed acidity  volatile acidity  citric acid  residual sugar  chlorides  \\\n",
       "0               7.4             0.700         0.00             1.9      0.076   \n",
       "1               7.8             0.880         0.00             2.6      0.098   \n",
       "2               7.8             0.760         0.04             2.3      0.092   \n",
       "3              11.2             0.280         0.56             1.9      0.075   \n",
       "4               7.4             0.700         0.00             1.9      0.076   \n",
       "...             ...               ...          ...             ...        ...   \n",
       "1594            6.2             0.600         0.08             2.0      0.090   \n",
       "1595            5.9             0.550         0.10             2.2      0.062   \n",
       "1596            6.3             0.510         0.13             2.3      0.076   \n",
       "1597            5.9             0.645         0.12             2.0      0.075   \n",
       "1598            6.0             0.310         0.47             3.6      0.067   \n",
       "\n",
       "      free sulfur dioxide  total sulfur dioxide  density    pH  sulphates  \\\n",
       "0                    11.0                  34.0  0.99780  3.51       0.56   \n",
       "1                    25.0                  67.0  0.99680  3.20       0.68   \n",
       "2                    15.0                  54.0  0.99700  3.26       0.65   \n",
       "3                    17.0                  60.0  0.99800  3.16       0.58   \n",
       "4                    11.0                  34.0  0.99780  3.51       0.56   \n",
       "...                   ...                   ...      ...   ...        ...   \n",
       "1594                 32.0                  44.0  0.99490  3.45       0.58   \n",
       "1595                 39.0                  51.0  0.99512  3.52       0.76   \n",
       "1596                 29.0                  40.0  0.99574  3.42       0.75   \n",
       "1597                 32.0                  44.0  0.99547  3.57       0.71   \n",
       "1598                 18.0                  42.0  0.99549  3.39       0.66   \n",
       "\n",
       "      alcohol  quality  \n",
       "0         9.4        5  \n",
       "1         9.8        5  \n",
       "2         9.8        5  \n",
       "3         9.8        6  \n",
       "4         9.4        5  \n",
       "...       ...      ...  \n",
       "1594     10.5        5  \n",
       "1595     11.2        6  \n",
       "1596     11.0        6  \n",
       "1597     10.2        5  \n",
       "1598     11.0        6  \n",
       "\n",
       "[1516 rows x 12 columns]"
      ]
     },
     "execution_count": 10,
     "metadata": {},
     "output_type": "execute_result"
    }
   ],
   "source": [
    "# Check the number of observations within 1 standard seviation\n",
    "df.loc[ (df.chlorides <= df.chlorides.mean() + 1 * df.chlorides.std()) & \n",
    "      (df.chlorides >= df.chlorides.mean() - 1 * df.chlorides.std()) ]"
   ]
  },
  {
   "cell_type": "code",
   "execution_count": 11,
   "id": "000df492",
   "metadata": {},
   "outputs": [
    {
     "data": {
      "text/plain": [
       "0       0.076\n",
       "1       0.098\n",
       "2       0.092\n",
       "3       0.075\n",
       "4       0.076\n",
       "        ...  \n",
       "1594    0.090\n",
       "1595    0.062\n",
       "1596    0.076\n",
       "1597    0.075\n",
       "1598    0.067\n",
       "Name: chlorides, Length: 1516, dtype: float64"
      ]
     },
     "execution_count": 11,
     "metadata": {},
     "output_type": "execute_result"
    }
   ],
   "source": [
    "# Check the number of observations within 1 standard seviation only for chlorides column\n",
    "df.loc[ (df.chlorides <= df.chlorides.mean() + 1 * df.chlorides.std()) &\n",
    "       ( df.chlorides >= df.chlorides.mean() - 1 * df.chlorides.std())].chlorides"
   ]
  },
  {
   "cell_type": "code",
   "execution_count": 13,
   "id": "ac49025c",
   "metadata": {},
   "outputs": [
    {
     "data": {
      "text/plain": [
       "0.9480925578486554"
      ]
     },
     "execution_count": 13,
     "metadata": {},
     "output_type": "execute_result"
    }
   ],
   "source": [
    "# Check the number of observations within 1 standard seviation count of chlorides column\n",
    "df.loc[ (df.chlorides <= df.chlorides.mean() + 1 * df.chlorides.std()) &\n",
    "       ( df.chlorides >= df.chlorides.mean() - 1 * df.chlorides.std())].chlorides.count() / df.chlorides.count()"
   ]
  },
  {
   "cell_type": "code",
   "execution_count": 14,
   "id": "019187c8",
   "metadata": {},
   "outputs": [
    {
     "data": {
      "text/plain": [
       "0.9718574108818011"
      ]
     },
     "execution_count": 14,
     "metadata": {},
     "output_type": "execute_result"
    }
   ],
   "source": [
    "# Check the number of observations within 2 standard seviation count of chlorides column\n",
    "df.loc[ (df.chlorides <= df.chlorides.mean() + 2 * df.chlorides.std()) &\n",
    "       ( df.chlorides >= df.chlorides.mean() - 2 * df.chlorides.std())].chlorides.count() / df.chlorides.count()"
   ]
  },
  {
   "cell_type": "code",
   "execution_count": 15,
   "id": "9a4e6a21",
   "metadata": {},
   "outputs": [
    {
     "data": {
      "text/plain": [
       "0.9806128830519074"
      ]
     },
     "execution_count": 15,
     "metadata": {},
     "output_type": "execute_result"
    }
   ],
   "source": [
    "# Check the number of observations within 3 standard seviation count of chlorides column\n",
    "df.loc[ (df.chlorides <= df.chlorides.mean() + 3 * df.chlorides.std()) &\n",
    "       ( df.chlorides >= df.chlorides.mean() - 3 * df.chlorides.std())].chlorides.count() / df.chlorides.count()"
   ]
  },
  {
   "cell_type": "code",
   "execution_count": 19,
   "id": "caeb4803",
   "metadata": {},
   "outputs": [
    {
     "data": {
      "text/plain": [
       "<Axes: ylabel='Density'>"
      ]
     },
     "execution_count": 19,
     "metadata": {},
     "output_type": "execute_result"
    },
    {
     "data": {
      "image/png": "[encoded data removed]",
      "text/plain": [
       "<Figure size 432x288 with 1 Axes>"
      ]
     },
     "metadata": {
      "needs_background": "light"
     },
     "output_type": "display_data"
    }
   ],
   "source": [
    "# Desnity plot for alcohol\n",
    "df.alcohol.plot.density()"
   ]
  },
  {
   "cell_type": "code",
   "execution_count": 25,
   "id": "e6ac3f0a",
   "metadata": {},
   "outputs": [
    {
     "data": {
      "text/plain": [
       "0.7035647279549718"
      ]
     },
     "execution_count": 25,
     "metadata": {},
     "output_type": "execute_result"
    }
   ],
   "source": [
    "#Challenge: Find what is the share of observations within 1 standard deviation of alcohol\n",
    "df.loc[ ( df.alcohol <= df.alcohol.mean() + 1 * df.alcohol.std() ) &\n",
    "        ( df.alcohol >= df.alcohol.mean() - 1 * df.alcohol.std() )].alcohol.count() / df.alcohol.count() "
   ]
  },
  {
   "cell_type": "code",
   "execution_count": 26,
   "id": "fbb40761",
   "metadata": {},
   "outputs": [
    {
     "data": {
      "text/plain": [
       "0.9562226391494684"
      ]
     },
     "execution_count": 26,
     "metadata": {},
     "output_type": "execute_result"
    }
   ],
   "source": [
    "#Challenge: Find what is the share of observations within 2 standard deviation of alcohol\n",
    "df.loc[ (df.alcohol <= df.alcohol.mean() + 2 * df.alcohol.std()) &\n",
    "        (df.alcohol >= df.alcohol.mean() - 2 * df.alcohol.std())].alcohol.count()  / df.alcohol.count() "
   ]
  },
  {
   "cell_type": "code",
   "execution_count": 27,
   "id": "bcb54ab2",
   "metadata": {},
   "outputs": [
    {
     "data": {
      "text/plain": [
       "0.9949968730456535"
      ]
     },
     "execution_count": 27,
     "metadata": {},
     "output_type": "execute_result"
    }
   ],
   "source": [
    "#Challenge: Find what is the share of observations within 3 standard deviation of alcohol\n",
    "df.loc[ (df.alcohol <= df.alcohol.mean() + 3 * df.alcohol.std()) &\n",
    "        (df.alcohol >= df.alcohol.mean() - 3 * df.alcohol.std())].alcohol.count()  / df.alcohol.count() "
   ]
  },
  {
   "cell_type": "markdown",
   "id": "b62dc223",
   "metadata": {},
   "source": [
    "## Shapiro-Wilks Test"
   ]
  },
  {
   "cell_type": "code",
   "execution_count": 36,
   "id": "ec597cf3",
   "metadata": {},
   "outputs": [
    {
     "name": "stdout",
     "output_type": "stream",
     "text": [
      "0.0\n",
      "Sample does not look Gaussian (Reject H0)\n"
     ]
    }
   ],
   "source": [
    "# Shapiro-Wilks for normality of chloride\n",
    "stat_c, p_c = st.shapiro(df.chlorides)\n",
    "print(p_c)\n",
    "\n",
    "# Condition\n",
    "# is yes\n",
    "if p_c > 0.05:\n",
    "    print(\"Sample looks Guassian/Normal (Fail to reject H0)\")\n",
    "\n",
    "# if not\n",
    "else:\n",
    "    print(\"Sample does not look Gaussian (Reject H0)\")"
   ]
  },
  {
   "cell_type": "code",
   "execution_count": 35,
   "id": "7cf79da0",
   "metadata": {},
   "outputs": [
    {
     "name": "stdout",
     "output_type": "stream",
     "text": [
      "5.821617678881608e-38\n",
      "Sample does not look like Guassian (Reject H0)\n"
     ]
    }
   ],
   "source": [
    "# Challenge: Create Shapiro-Wilks test for sulphates and write if-else statement\n",
    "stat_s, p_s=st.shapiro(df.sulphates)\n",
    "print(p_s)\n",
    "\n",
    "# Conditions\n",
    "#If yes\n",
    "if p_s > 0.05:\n",
    "    print(\"Sample looks Guassian/Normal (Fail to reject H0)\")\n",
    "\n",
    "# If not\n",
    "else:\n",
    "    print(\"Sample does not look like Guassian (Reject H0)\")"
   ]
  },
  {
   "cell_type": "markdown",
   "id": "3ec70ef2",
   "metadata": {},
   "source": [
    "## Standard Error"
   ]
  },
  {
   "cell_type": "code",
   "execution_count": 38,
   "id": "a6ef8e14",
   "metadata": {},
   "outputs": [
    {
     "data": {
      "text/plain": [
       "0.026650018979018173"
      ]
     },
     "execution_count": 38,
     "metadata": {},
     "output_type": "execute_result"
    }
   ],
   "source": [
    "# Using the function\n",
    "st.sem(df.alcohol)"
   ]
  },
  {
   "cell_type": "code",
   "execution_count": 39,
   "id": "ff976a2c",
   "metadata": {},
   "outputs": [
    {
     "data": {
      "text/plain": [
       "0.026650018979018118"
      ]
     },
     "execution_count": 39,
     "metadata": {},
     "output_type": "execute_result"
    }
   ],
   "source": [
    "# Us doing computation: standard deviation / square root of alcohol observations\n",
    "df.alcohol.std() / m.sqrt(df.alcohol.count())"
   ]
  },
  {
   "cell_type": "code",
   "execution_count": 40,
   "id": "a0404f9b",
   "metadata": {},
   "outputs": [
    {
     "name": "stdout",
     "output_type": "stream",
     "text": [
      "0.0038608683325203784\n",
      "0.0038608683325203753\n"
     ]
    }
   ],
   "source": [
    "# hallenge: standard error for ph using both ways\n",
    "\n",
    "# using function\n",
    "using_function=st.sem(df.pH)\n",
    "print(using_function)\n",
    "\n",
    "# using ccalculations\n",
    "using_calc=df.pH.std() / m.sqrt(df.pH.count())\n",
    "print(using_calc)"
   ]
  },
  {
   "cell_type": "markdown",
   "id": "bec68aae",
   "metadata": {},
   "source": [
    "## Confidence Interval"
   ]
  },
  {
   "cell_type": "code",
   "execution_count": 58,
   "id": "ee52a52a",
   "metadata": {},
   "outputs": [
    {
     "name": "stdout",
     "output_type": "stream",
     "text": [
      "citric acid:  0.2709756097560976\n"
     ]
    },
    {
     "data": {
      "text/plain": [
       "(array([0.26142031]), array([0.28053091]))"
      ]
     },
     "execution_count": 58,
     "metadata": {},
     "output_type": "execute_result"
    }
   ],
   "source": [
    "# confidence interval of citric acid\n",
    "print(\"citric acid: \", df['citric acid'].mean())\n",
    "st.t.interval(confidence=0.95, \n",
    "              df=len(df[['citric acid']])-1, \n",
    "              loc=df[['citric acid']].mean(), \n",
    "              scale=st.sem(df[['citric acid']]))"
   ]
  },
  {
   "cell_type": "code",
   "execution_count": 57,
   "id": "7aeba43c",
   "metadata": {},
   "outputs": [
    {
     "data": {
      "text/plain": [
       "<Axes: >"
      ]
     },
     "execution_count": 57,
     "metadata": {},
     "output_type": "execute_result"
    },
    {
     "data": {
      "image/png": "[encoded data removed]",
      "text/plain": [
       "<Figure size 432x288 with 1 Axes>"
      ]
     },
     "metadata": {
      "needs_background": "light"
     },
     "output_type": "display_data"
    }
   ],
   "source": [
    "# plot hostogram of citric acid\n",
    "df['citric acid'].hist()"
   ]
  },
  {
   "cell_type": "code",
   "execution_count": 61,
   "id": "ded3c3c9",
   "metadata": {},
   "outputs": [
    {
     "name": "stdout",
     "output_type": "stream",
     "text": [
      "density:  0.9967466791744841\n"
     ]
    },
    {
     "data": {
      "text/plain": [
       "(0.9966690001756976, 0.9968243581732706)"
      ]
     },
     "execution_count": 61,
     "metadata": {},
     "output_type": "execute_result"
    }
   ],
   "source": [
    "# Challenge: confidence level of density mean\n",
    "print(\"density: \", df.density.mean())\n",
    "st.t.interval(confidence=0.90, \n",
    "              df=len(df.density)-1, \n",
    "              loc=df.density.mean(), \n",
    "              scale=st.sem(df.density))"
   ]
  },
  {
   "cell_type": "code",
   "execution_count": 60,
   "id": "6e210efe",
   "metadata": {},
   "outputs": [
    {
     "data": {
      "text/plain": [
       "<Axes: >"
      ]
     },
     "execution_count": 60,
     "metadata": {},
     "output_type": "execute_result"
    },
    {
     "data": {
      "image/png": "[encoded data removed]",
      "text/plain": [
       "<Figure size 432x288 with 1 Axes>"
      ]
     },
     "metadata": {
      "needs_background": "light"
     },
     "output_type": "display_data"
    }
   ],
   "source": [
    "df.density.hist()"
   ]
  },
  {
   "cell_type": "markdown",
   "id": "a4412e89",
   "metadata": {},
   "source": [
    "## T-test"
   ]
  },
  {
   "cell_type": "code",
   "execution_count": 62,
   "id": "bd8ccd76",
   "metadata": {},
   "outputs": [],
   "source": [
    "# uploading new data\n",
    "df1=pd.read_csv(\"/Users/bididudy/Downloads/Business Analyst course/Statistics and Descriptive Analytics/Intermediary Statistics/stackoverflow.csv\")"
   ]
  },
  {
   "cell_type": "code",
   "execution_count": 63,
   "id": "879dad87",
   "metadata": {},
   "outputs": [
    {
     "data": {
      "text/html": [
       "<div>\n",
       "<style scoped>\n",
       "    .dataframe tbody tr th:only-of-type {\n",
       "        vertical-align: middle;\n",
       "    }\n",
       "\n",
       "    .dataframe tbody tr th {\n",
       "        vertical-align: top;\n",
       "    }\n",
       "\n",
       "    .dataframe thead th {\n",
       "        text-align: right;\n",
       "    }\n",
       "</style>\n",
       "<table border=\"1\" class=\"dataframe\">\n",
       "  <thead>\n",
       "    <tr style=\"text-align: right;\">\n",
       "      <th></th>\n",
       "      <th>Country</th>\n",
       "      <th>Salary</th>\n",
       "      <th>YearsCodedJob</th>\n",
       "      <th>OpenSource</th>\n",
       "      <th>Hobby</th>\n",
       "      <th>CompanySizeNumber</th>\n",
       "      <th>Remote</th>\n",
       "      <th>CareerSatisfaction</th>\n",
       "      <th>Data_scientist</th>\n",
       "      <th>Database_administrator</th>\n",
       "      <th>...</th>\n",
       "      <th>Developer_with_stats_math_background</th>\n",
       "      <th>DevOps</th>\n",
       "      <th>Embedded_developer</th>\n",
       "      <th>Graphic_designer</th>\n",
       "      <th>Graphics_programming</th>\n",
       "      <th>Machine_learning_specialist</th>\n",
       "      <th>Mobile_developer</th>\n",
       "      <th>Quality_assurance_engineer</th>\n",
       "      <th>Systems_administrator</th>\n",
       "      <th>Web_developer</th>\n",
       "    </tr>\n",
       "  </thead>\n",
       "  <tbody>\n",
       "    <tr>\n",
       "      <th>0</th>\n",
       "      <td>United Kingdom</td>\n",
       "      <td>100000.000000</td>\n",
       "      <td>20</td>\n",
       "      <td>0</td>\n",
       "      <td>1</td>\n",
       "      <td>5000</td>\n",
       "      <td>Remote</td>\n",
       "      <td>8</td>\n",
       "      <td>0</td>\n",
       "      <td>0</td>\n",
       "      <td>...</td>\n",
       "      <td>0</td>\n",
       "      <td>0</td>\n",
       "      <td>1</td>\n",
       "      <td>0</td>\n",
       "      <td>0</td>\n",
       "      <td>0</td>\n",
       "      <td>0</td>\n",
       "      <td>0</td>\n",
       "      <td>0</td>\n",
       "      <td>0</td>\n",
       "    </tr>\n",
       "    <tr>\n",
       "      <th>1</th>\n",
       "      <td>United States</td>\n",
       "      <td>130000.000000</td>\n",
       "      <td>20</td>\n",
       "      <td>1</td>\n",
       "      <td>1</td>\n",
       "      <td>1000</td>\n",
       "      <td>Remote</td>\n",
       "      <td>9</td>\n",
       "      <td>0</td>\n",
       "      <td>0</td>\n",
       "      <td>...</td>\n",
       "      <td>0</td>\n",
       "      <td>1</td>\n",
       "      <td>1</td>\n",
       "      <td>0</td>\n",
       "      <td>0</td>\n",
       "      <td>0</td>\n",
       "      <td>0</td>\n",
       "      <td>1</td>\n",
       "      <td>0</td>\n",
       "      <td>1</td>\n",
       "    </tr>\n",
       "    <tr>\n",
       "      <th>2</th>\n",
       "      <td>United States</td>\n",
       "      <td>175000.000000</td>\n",
       "      <td>16</td>\n",
       "      <td>0</td>\n",
       "      <td>1</td>\n",
       "      <td>10000</td>\n",
       "      <td>Not remote</td>\n",
       "      <td>7</td>\n",
       "      <td>0</td>\n",
       "      <td>0</td>\n",
       "      <td>...</td>\n",
       "      <td>0</td>\n",
       "      <td>0</td>\n",
       "      <td>0</td>\n",
       "      <td>0</td>\n",
       "      <td>0</td>\n",
       "      <td>0</td>\n",
       "      <td>0</td>\n",
       "      <td>0</td>\n",
       "      <td>0</td>\n",
       "      <td>1</td>\n",
       "    </tr>\n",
       "    <tr>\n",
       "      <th>3</th>\n",
       "      <td>Germany</td>\n",
       "      <td>64516.129030</td>\n",
       "      <td>4</td>\n",
       "      <td>0</td>\n",
       "      <td>0</td>\n",
       "      <td>1000</td>\n",
       "      <td>Not remote</td>\n",
       "      <td>9</td>\n",
       "      <td>0</td>\n",
       "      <td>0</td>\n",
       "      <td>...</td>\n",
       "      <td>0</td>\n",
       "      <td>0</td>\n",
       "      <td>0</td>\n",
       "      <td>0</td>\n",
       "      <td>0</td>\n",
       "      <td>0</td>\n",
       "      <td>0</td>\n",
       "      <td>0</td>\n",
       "      <td>0</td>\n",
       "      <td>1</td>\n",
       "    </tr>\n",
       "    <tr>\n",
       "      <th>4</th>\n",
       "      <td>India</td>\n",
       "      <td>6636.323594</td>\n",
       "      <td>1</td>\n",
       "      <td>0</td>\n",
       "      <td>1</td>\n",
       "      <td>5000</td>\n",
       "      <td>Not remote</td>\n",
       "      <td>5</td>\n",
       "      <td>0</td>\n",
       "      <td>0</td>\n",
       "      <td>...</td>\n",
       "      <td>0</td>\n",
       "      <td>0</td>\n",
       "      <td>0</td>\n",
       "      <td>0</td>\n",
       "      <td>0</td>\n",
       "      <td>0</td>\n",
       "      <td>0</td>\n",
       "      <td>0</td>\n",
       "      <td>0</td>\n",
       "      <td>1</td>\n",
       "    </tr>\n",
       "  </tbody>\n",
       "</table>\n",
       "<p>5 rows × 21 columns</p>\n",
       "</div>"
      ],
      "text/plain": [
       "          Country         Salary  YearsCodedJob  OpenSource  Hobby  \\\n",
       "0  United Kingdom  100000.000000             20           0      1   \n",
       "1   United States  130000.000000             20           1      1   \n",
       "2   United States  175000.000000             16           0      1   \n",
       "3         Germany   64516.129030              4           0      0   \n",
       "4           India    6636.323594              1           0      1   \n",
       "\n",
       "   CompanySizeNumber      Remote  CareerSatisfaction  Data_scientist  \\\n",
       "0               5000      Remote                   8               0   \n",
       "1               1000      Remote                   9               0   \n",
       "2              10000  Not remote                   7               0   \n",
       "3               1000  Not remote                   9               0   \n",
       "4               5000  Not remote                   5               0   \n",
       "\n",
       "   Database_administrator  ...  Developer_with_stats_math_background  DevOps  \\\n",
       "0                       0  ...                                     0       0   \n",
       "1                       0  ...                                     0       1   \n",
       "2                       0  ...                                     0       0   \n",
       "3                       0  ...                                     0       0   \n",
       "4                       0  ...                                     0       0   \n",
       "\n",
       "   Embedded_developer  Graphic_designer  Graphics_programming  \\\n",
       "0                   1                 0                     0   \n",
       "1                   1                 0                     0   \n",
       "2                   0                 0                     0   \n",
       "3                   0                 0                     0   \n",
       "4                   0                 0                     0   \n",
       "\n",
       "   Machine_learning_specialist  Mobile_developer  Quality_assurance_engineer  \\\n",
       "0                            0                 0                           0   \n",
       "1                            0                 0                           1   \n",
       "2                            0                 0                           0   \n",
       "3                            0                 0                           0   \n",
       "4                            0                 0                           0   \n",
       "\n",
       "   Systems_administrator  Web_developer  \n",
       "0                      0              0  \n",
       "1                      0              1  \n",
       "2                      0              1  \n",
       "3                      0              1  \n",
       "4                      0              1  \n",
       "\n",
       "[5 rows x 21 columns]"
      ]
     },
     "execution_count": 63,
     "metadata": {},
     "output_type": "execute_result"
    }
   ],
   "source": [
    "df1.head()"
   ]
  },
  {
   "cell_type": "code",
   "execution_count": 76,
   "id": "009d2d1a",
   "metadata": {},
   "outputs": [],
   "source": [
    "# subset of uk employees\n",
    "salary_uk=df1.loc[df1.Country == 'United Kingdom'].Salary"
   ]
  },
  {
   "cell_type": "code",
   "execution_count": 75,
   "id": "fba1e3d4",
   "metadata": {},
   "outputs": [],
   "source": [
    "# subset of Germany employees\n",
    "salary_Germany=df1.loc[df1.Country == 'Germany'].Salary"
   ]
  },
  {
   "cell_type": "code",
   "execution_count": 74,
   "id": "2e665af5",
   "metadata": {},
   "outputs": [
    {
     "data": {
      "text/plain": [
       "3       64516.129030\n",
       "7       53763.440860\n",
       "9       83870.967740\n",
       "25      10752.688170\n",
       "43      59139.784950\n",
       "            ...     \n",
       "5570    60215.053760\n",
       "5571    48387.096770\n",
       "5574    69892.473120\n",
       "5578     8602.150538\n",
       "5579    41935.483870\n",
       "Name: Salary, Length: 757, dtype: float64"
      ]
     },
     "execution_count": 74,
     "metadata": {},
     "output_type": "execute_result"
    }
   ],
   "source": [
    "salary_Germany.Salary"
   ]
  },
  {
   "cell_type": "code",
   "execution_count": 80,
   "id": "f1717bc9",
   "metadata": {},
   "outputs": [
    {
     "name": "stdout",
     "output_type": "stream",
     "text": [
      "0.026389999555203502\n",
      "We reject null hypothesis i.e. both conties does not have similar salaries\n"
     ]
    }
   ],
   "source": [
    "# T-test\n",
    "stat_t, p_t=st.ttest_ind(a=salary_uk, b=salary_Germany)\n",
    "print(p_t)\n",
    "if p_t > 0.05:\n",
    "    print(\"We accept null hypothesis i.e. both conties have similar salaries\")\n",
    "else:\n",
    "    print(\"We reject null hypothesis i.e. both conties does not have similar salaries\")"
   ]
  },
  {
   "cell_type": "code",
   "execution_count": 87,
   "id": "547ecbf1",
   "metadata": {},
   "outputs": [],
   "source": [
    "# Challenge: T-test in experience(YearCodedJob) between india and united states"
   ]
  },
  {
   "cell_type": "code",
   "execution_count": 88,
   "id": "b72a3adb",
   "metadata": {},
   "outputs": [],
   "source": [
    "# creating both mentioned countries subsets by experience\n",
    "experience_i=df1.loc[df1.Country == 'India'].YearsCodedJob\n",
    "experience_usa=df1.loc[df1.Country == 'United States'].YearsCodedJob"
   ]
  },
  {
   "cell_type": "code",
   "execution_count": 90,
   "id": "76085455",
   "metadata": {},
   "outputs": [
    {
     "name": "stdout",
     "output_type": "stream",
     "text": [
      "5.225676347614714e-58\n",
      "We reject null hypothesis i.e. both conties does not have similar experience\n"
     ]
    }
   ],
   "source": [
    "# T-test\n",
    "stat_e, p_e = st.ttest_ind(a=experience_i, b=experience_usa)\n",
    "print(p_e)\n",
    "\n",
    "if p_t > 0.05:\n",
    "    print(\"We accept null hypothesis i.e. both conties have similar experience\")\n",
    "else:\n",
    "    print(\"We reject null hypothesis i.e. both conties does not have similar experience\")"
   ]
  },
  {
   "cell_type": "code",
   "execution_count": 92,
   "id": "59dd6dbe",
   "metadata": {},
   "outputs": [
    {
     "data": {
      "text/plain": [
       "<Axes: >"
      ]
     },
     "execution_count": 92,
     "metadata": {},
     "output_type": "execute_result"
    },
    {
     "data": {
      "image/png": "[encoded data removed]",
      "text/plain": [
       "<Figure size 432x288 with 1 Axes>"
      ]
     },
     "metadata": {
      "needs_background": "light"
     },
     "output_type": "display_data"
    }
   ],
   "source": [
    "# Histogram\n",
    "experience_usa.hist()\n",
    "experience_i.hist()\n"
   ]
  },
  {
   "cell_type": "markdown",
   "id": "345109ae",
   "metadata": {},
   "source": [
    "## Chi-sqare test"
   ]
  },
  {
   "cell_type": "code",
   "execution_count": 93,
   "id": "22decbb1",
   "metadata": {},
   "outputs": [],
   "source": [
    "# for chi-square test we require categorical veriable we will use Country and Remote variables here"
   ]
  },
  {
   "cell_type": "code",
   "execution_count": 95,
   "id": "ab4eaabb",
   "metadata": {},
   "outputs": [
    {
     "data": {
      "text/html": [
       "<div>\n",
       "<style scoped>\n",
       "    .dataframe tbody tr th:only-of-type {\n",
       "        vertical-align: middle;\n",
       "    }\n",
       "\n",
       "    .dataframe tbody tr th {\n",
       "        vertical-align: top;\n",
       "    }\n",
       "\n",
       "    .dataframe thead th {\n",
       "        text-align: right;\n",
       "    }\n",
       "</style>\n",
       "<table border=\"1\" class=\"dataframe\">\n",
       "  <thead>\n",
       "    <tr style=\"text-align: right;\">\n",
       "      <th>Remote</th>\n",
       "      <th>Not remote</th>\n",
       "      <th>Remote</th>\n",
       "    </tr>\n",
       "    <tr>\n",
       "      <th>Country</th>\n",
       "      <th></th>\n",
       "      <th></th>\n",
       "    </tr>\n",
       "  </thead>\n",
       "  <tbody>\n",
       "    <tr>\n",
       "      <th>Canada</th>\n",
       "      <td>457</td>\n",
       "      <td>28</td>\n",
       "    </tr>\n",
       "    <tr>\n",
       "      <th>Germany</th>\n",
       "      <td>717</td>\n",
       "      <td>40</td>\n",
       "    </tr>\n",
       "    <tr>\n",
       "      <th>India</th>\n",
       "      <td>482</td>\n",
       "      <td>56</td>\n",
       "    </tr>\n",
       "    <tr>\n",
       "      <th>United Kingdom</th>\n",
       "      <td>953</td>\n",
       "      <td>70</td>\n",
       "    </tr>\n",
       "    <tr>\n",
       "      <th>United States</th>\n",
       "      <td>2410</td>\n",
       "      <td>381</td>\n",
       "    </tr>\n",
       "  </tbody>\n",
       "</table>\n",
       "</div>"
      ],
      "text/plain": [
       "Remote          Not remote  Remote\n",
       "Country                           \n",
       "Canada                 457      28\n",
       "Germany                717      40\n",
       "India                  482      56\n",
       "United Kingdom         953      70\n",
       "United States         2410     381"
      ]
     },
     "execution_count": 95,
     "metadata": {},
     "output_type": "execute_result"
    }
   ],
   "source": [
    "# cross tabulation\n",
    "tab=pd.crosstab(index=df1.Country,\n",
    "               columns=df1.Remote)\n",
    "tab"
   ]
  },
  {
   "cell_type": "code",
   "execution_count": 98,
   "id": "70bc5c05",
   "metadata": {},
   "outputs": [
    {
     "name": "stdout",
     "output_type": "stream",
     "text": [
      "3.321120877301216e-16\n",
      "There is relationship (Reject H0)\n"
     ]
    }
   ],
   "source": [
    "# chi_sqaure test\n",
    "chi2, p, dof, exp = st.chi2_contingency(tab)\n",
    "print(p)\n",
    "\n",
    "if p > 0.05:\n",
    "    print(\"There is no relationship (Fail to reject H0)\")\n",
    "else:\n",
    "    print(\"There is a strong relationship (Reject H0)\")"
   ]
  },
  {
   "cell_type": "code",
   "execution_count": 99,
   "id": "e932b918",
   "metadata": {},
   "outputs": [],
   "source": [
    "# Challenge: Chi_sqare test between company size and hobbies"
   ]
  },
  {
   "cell_type": "code",
   "execution_count": 100,
   "id": "9bd92721",
   "metadata": {},
   "outputs": [
    {
     "data": {
      "text/html": [
       "<div>\n",
       "<style scoped>\n",
       "    .dataframe tbody tr th:only-of-type {\n",
       "        vertical-align: middle;\n",
       "    }\n",
       "\n",
       "    .dataframe tbody tr th {\n",
       "        vertical-align: top;\n",
       "    }\n",
       "\n",
       "    .dataframe thead th {\n",
       "        text-align: right;\n",
       "    }\n",
       "</style>\n",
       "<table border=\"1\" class=\"dataframe\">\n",
       "  <thead>\n",
       "    <tr style=\"text-align: right;\">\n",
       "      <th>Hobby</th>\n",
       "      <th>0</th>\n",
       "      <th>1</th>\n",
       "    </tr>\n",
       "    <tr>\n",
       "      <th>CompanySizeNumber</th>\n",
       "      <th></th>\n",
       "      <th></th>\n",
       "    </tr>\n",
       "  </thead>\n",
       "  <tbody>\n",
       "    <tr>\n",
       "      <th>1</th>\n",
       "      <td>101</td>\n",
       "      <td>311</td>\n",
       "    </tr>\n",
       "    <tr>\n",
       "      <th>10</th>\n",
       "      <td>123</td>\n",
       "      <td>400</td>\n",
       "    </tr>\n",
       "    <tr>\n",
       "      <th>20</th>\n",
       "      <td>293</td>\n",
       "      <td>961</td>\n",
       "    </tr>\n",
       "    <tr>\n",
       "      <th>100</th>\n",
       "      <td>245</td>\n",
       "      <td>918</td>\n",
       "    </tr>\n",
       "    <tr>\n",
       "      <th>500</th>\n",
       "      <td>91</td>\n",
       "      <td>309</td>\n",
       "    </tr>\n",
       "    <tr>\n",
       "      <th>1000</th>\n",
       "      <td>180</td>\n",
       "      <td>436</td>\n",
       "    </tr>\n",
       "    <tr>\n",
       "      <th>5000</th>\n",
       "      <td>60</td>\n",
       "      <td>192</td>\n",
       "    </tr>\n",
       "    <tr>\n",
       "      <th>10000</th>\n",
       "      <td>243</td>\n",
       "      <td>731</td>\n",
       "    </tr>\n",
       "  </tbody>\n",
       "</table>\n",
       "</div>"
      ],
      "text/plain": [
       "Hobby                0    1\n",
       "CompanySizeNumber          \n",
       "1                  101  311\n",
       "10                 123  400\n",
       "20                 293  961\n",
       "100                245  918\n",
       "500                 91  309\n",
       "1000               180  436\n",
       "5000                60  192\n",
       "10000              243  731"
      ]
     },
     "execution_count": 100,
     "metadata": {},
     "output_type": "execute_result"
    }
   ],
   "source": [
    "# first cross tabulation of asked variables\n",
    "tab1=pd.crosstab(index = df1.CompanySizeNumber,\n",
    "                columns = df1.Hobby)\n",
    "tab1"
   ]
  },
  {
   "cell_type": "code",
   "execution_count": 103,
   "id": "051050b7",
   "metadata": {},
   "outputs": [
    {
     "name": "stdout",
     "output_type": "stream",
     "text": [
      "0.025708455559671047\n",
      "There is a strong relationship (Rejct H0)\n"
     ]
    }
   ],
   "source": [
    "chi2, p, dof, exp = st.chi2_contingency(tab1)\n",
    "print(p)\n",
    "\n",
    "if p > 0.05:\n",
    "    print(\"There is no relationship (Fail to reject H0)\")\n",
    "else:\n",
    "    print(\"There is a strong relationship (Rejct H0)\")"
   ]
  },
  {
   "cell_type": "code",
   "execution_count": null,
   "id": "5ec3dcad",
   "metadata": {},
   "outputs": [],
   "source": []
  }
 ],
 "metadata": {
  "kernelspec": {
   "display_name": "Python 3 (ipykernel)",
   "language": "python",
   "name": "python3"
  },
  "language_info": {
   "codemirror_mode": {
    "name": "ipython",
    "version": 3
   },
   "file_extension": ".py",
   "mimetype": "text/x-python",
   "name": "python",
   "nbconvert_exporter": "python",
   "pygments_lexer": "ipython3",
   "version": "3.9.12"
  }
 },
 "nbformat": 4,
 "nbformat_minor": 5
}
